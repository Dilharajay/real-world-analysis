{
  "nbformat": 4,
  "nbformat_minor": 0,
  "metadata": {
    "colab": {
      "provenance": [],
      "authorship_tag": "ABX9TyMBphA2vzpEm9zeKxj+UQGz",
      "include_colab_link": true
    },
    "kernelspec": {
      "name": "python3",
      "display_name": "Python 3"
    },
    "language_info": {
      "name": "python"
    }
  },
  "cells": [
    {
      "cell_type": "markdown",
      "metadata": {
        "id": "view-in-github",
        "colab_type": "text"
      },
      "source": [
        "<a href=\"https://colab.research.google.com/github/Dilharajay/real-world-analysis/blob/main/Practical_session_08.ipynb\" target=\"_parent\"><img src=\"https://colab.research.google.com/assets/colab-badge.svg\" alt=\"Open In Colab\"/></a>"
      ]
    },
    {
      "cell_type": "markdown",
      "source": [
        "# Import Neccecery Libraries\n",
        "\n"
      ],
      "metadata": {
        "id": "0VSg-YTVInlc"
      }
    },
    {
      "cell_type": "code",
      "execution_count": 2,
      "metadata": {
        "id": "gMNQJPOfD6eD"
      },
      "outputs": [],
      "source": [
        "import pandas as pd\n",
        "import numpy as np\n",
        "from sklearn.model_selection import train_test_split\n",
        "from sklearn.linear_model import LinearRegression, Ridge, Lasso\n",
        "from sklearn.metrics import mean_squared_error"
      ]
    },
    {
      "cell_type": "markdown",
      "source": [
        "# Create a Simple Dataset for salary prediction"
      ],
      "metadata": {
        "id": "C9rmTCCzIz51"
      }
    },
    {
      "cell_type": "markdown",
      "source": [
        "#Part B: Data Preparation\n",
        "\n",
        "## Split the dataset into training and testing data"
      ],
      "metadata": {
        "id": "C8M_w1GLLB1V"
      }
    },
    {
      "cell_type": "code",
      "source": [
        "data = {\n",
        "    \"Expirience\" :[1,2,3,4,5,6,7,8,9,10],\n",
        "    \"Age\" : [22,25,27,30,32,35,38,40,43,45],\n",
        "    \"Education_Level\" : [1,2,2,3,3,4,4,4,5,5],\n",
        "    \"Salary\" : [30000,35000,40000,45000,50000,55000,60000,65000,70000,75000]\n",
        "}\n",
        "\n",
        "df = pd.DataFrame(data)\n",
        "print(df)"
      ],
      "metadata": {
        "colab": {
          "base_uri": "https://localhost:8080/"
        },
        "id": "SUy5j0fZIi-Z",
        "outputId": "d69fbecc-826a-4677-8235-13b23a1b1ab9"
      },
      "execution_count": 4,
      "outputs": [
        {
          "output_type": "stream",
          "name": "stdout",
          "text": [
            "   Expirience  Age  Education_Level  Salary\n",
            "0           1   22                1   30000\n",
            "1           2   25                2   35000\n",
            "2           3   27                2   40000\n",
            "3           4   30                3   45000\n",
            "4           5   32                3   50000\n",
            "5           6   35                4   55000\n",
            "6           7   38                4   60000\n",
            "7           8   40                4   65000\n",
            "8           9   43                5   70000\n",
            "9          10   45                5   75000\n"
          ]
        }
      ]
    },
    {
      "cell_type": "code",
      "source": [
        "df.corr()"
      ],
      "metadata": {
        "colab": {
          "base_uri": "https://localhost:8080/",
          "height": 175
        },
        "id": "m4PRZUDoRc0B",
        "outputId": "938ac97f-325c-4af1-b6ab-8f866f690d31"
      },
      "execution_count": 17,
      "outputs": [
        {
          "output_type": "execute_result",
          "data": {
            "text/plain": [
              "                 Expirience       Age  Education_Level    Salary\n",
              "Expirience         1.000000  0.999314         0.974066  1.000000\n",
              "Age                0.999314  1.000000         0.978301  0.999314\n",
              "Education_Level    0.974066  0.978301         1.000000  0.974066\n",
              "Salary             1.000000  0.999314         0.974066  1.000000"
            ],
            "text/html": [
              "\n",
              "  <div id=\"df-f20ddf88-85f3-434c-aaca-f499736d81ac\" class=\"colab-df-container\">\n",
              "    <div>\n",
              "<style scoped>\n",
              "    .dataframe tbody tr th:only-of-type {\n",
              "        vertical-align: middle;\n",
              "    }\n",
              "\n",
              "    .dataframe tbody tr th {\n",
              "        vertical-align: top;\n",
              "    }\n",
              "\n",
              "    .dataframe thead th {\n",
              "        text-align: right;\n",
              "    }\n",
              "</style>\n",
              "<table border=\"1\" class=\"dataframe\">\n",
              "  <thead>\n",
              "    <tr style=\"text-align: right;\">\n",
              "      <th></th>\n",
              "      <th>Expirience</th>\n",
              "      <th>Age</th>\n",
              "      <th>Education_Level</th>\n",
              "      <th>Salary</th>\n",
              "    </tr>\n",
              "  </thead>\n",
              "  <tbody>\n",
              "    <tr>\n",
              "      <th>Expirience</th>\n",
              "      <td>1.000000</td>\n",
              "      <td>0.999314</td>\n",
              "      <td>0.974066</td>\n",
              "      <td>1.000000</td>\n",
              "    </tr>\n",
              "    <tr>\n",
              "      <th>Age</th>\n",
              "      <td>0.999314</td>\n",
              "      <td>1.000000</td>\n",
              "      <td>0.978301</td>\n",
              "      <td>0.999314</td>\n",
              "    </tr>\n",
              "    <tr>\n",
              "      <th>Education_Level</th>\n",
              "      <td>0.974066</td>\n",
              "      <td>0.978301</td>\n",
              "      <td>1.000000</td>\n",
              "      <td>0.974066</td>\n",
              "    </tr>\n",
              "    <tr>\n",
              "      <th>Salary</th>\n",
              "      <td>1.000000</td>\n",
              "      <td>0.999314</td>\n",
              "      <td>0.974066</td>\n",
              "      <td>1.000000</td>\n",
              "    </tr>\n",
              "  </tbody>\n",
              "</table>\n",
              "</div>\n",
              "    <div class=\"colab-df-buttons\">\n",
              "\n",
              "  <div class=\"colab-df-container\">\n",
              "    <button class=\"colab-df-convert\" onclick=\"convertToInteractive('df-f20ddf88-85f3-434c-aaca-f499736d81ac')\"\n",
              "            title=\"Convert this dataframe to an interactive table.\"\n",
              "            style=\"display:none;\">\n",
              "\n",
              "  <svg xmlns=\"http://www.w3.org/2000/svg\" height=\"24px\" viewBox=\"0 -960 960 960\">\n",
              "    <path d=\"M120-120v-720h720v720H120Zm60-500h600v-160H180v160Zm220 220h160v-160H400v160Zm0 220h160v-160H400v160ZM180-400h160v-160H180v160Zm440 0h160v-160H620v160ZM180-180h160v-160H180v160Zm440 0h160v-160H620v160Z\"/>\n",
              "  </svg>\n",
              "    </button>\n",
              "\n",
              "  <style>\n",
              "    .colab-df-container {\n",
              "      display:flex;\n",
              "      gap: 12px;\n",
              "    }\n",
              "\n",
              "    .colab-df-convert {\n",
              "      background-color: #E8F0FE;\n",
              "      border: none;\n",
              "      border-radius: 50%;\n",
              "      cursor: pointer;\n",
              "      display: none;\n",
              "      fill: #1967D2;\n",
              "      height: 32px;\n",
              "      padding: 0 0 0 0;\n",
              "      width: 32px;\n",
              "    }\n",
              "\n",
              "    .colab-df-convert:hover {\n",
              "      background-color: #E2EBFA;\n",
              "      box-shadow: 0px 1px 2px rgba(60, 64, 67, 0.3), 0px 1px 3px 1px rgba(60, 64, 67, 0.15);\n",
              "      fill: #174EA6;\n",
              "    }\n",
              "\n",
              "    .colab-df-buttons div {\n",
              "      margin-bottom: 4px;\n",
              "    }\n",
              "\n",
              "    [theme=dark] .colab-df-convert {\n",
              "      background-color: #3B4455;\n",
              "      fill: #D2E3FC;\n",
              "    }\n",
              "\n",
              "    [theme=dark] .colab-df-convert:hover {\n",
              "      background-color: #434B5C;\n",
              "      box-shadow: 0px 1px 3px 1px rgba(0, 0, 0, 0.15);\n",
              "      filter: drop-shadow(0px 1px 2px rgba(0, 0, 0, 0.3));\n",
              "      fill: #FFFFFF;\n",
              "    }\n",
              "  </style>\n",
              "\n",
              "    <script>\n",
              "      const buttonEl =\n",
              "        document.querySelector('#df-f20ddf88-85f3-434c-aaca-f499736d81ac button.colab-df-convert');\n",
              "      buttonEl.style.display =\n",
              "        google.colab.kernel.accessAllowed ? 'block' : 'none';\n",
              "\n",
              "      async function convertToInteractive(key) {\n",
              "        const element = document.querySelector('#df-f20ddf88-85f3-434c-aaca-f499736d81ac');\n",
              "        const dataTable =\n",
              "          await google.colab.kernel.invokeFunction('convertToInteractive',\n",
              "                                                    [key], {});\n",
              "        if (!dataTable) return;\n",
              "\n",
              "        const docLinkHtml = 'Like what you see? Visit the ' +\n",
              "          '<a target=\"_blank\" href=https://colab.research.google.com/notebooks/data_table.ipynb>data table notebook</a>'\n",
              "          + ' to learn more about interactive tables.';\n",
              "        element.innerHTML = '';\n",
              "        dataTable['output_type'] = 'display_data';\n",
              "        await google.colab.output.renderOutput(dataTable, element);\n",
              "        const docLink = document.createElement('div');\n",
              "        docLink.innerHTML = docLinkHtml;\n",
              "        element.appendChild(docLink);\n",
              "      }\n",
              "    </script>\n",
              "  </div>\n",
              "\n",
              "\n",
              "    <div id=\"df-9d9604f4-6997-489c-8bcc-b33316352a68\">\n",
              "      <button class=\"colab-df-quickchart\" onclick=\"quickchart('df-9d9604f4-6997-489c-8bcc-b33316352a68')\"\n",
              "                title=\"Suggest charts\"\n",
              "                style=\"display:none;\">\n",
              "\n",
              "<svg xmlns=\"http://www.w3.org/2000/svg\" height=\"24px\"viewBox=\"0 0 24 24\"\n",
              "     width=\"24px\">\n",
              "    <g>\n",
              "        <path d=\"M19 3H5c-1.1 0-2 .9-2 2v14c0 1.1.9 2 2 2h14c1.1 0 2-.9 2-2V5c0-1.1-.9-2-2-2zM9 17H7v-7h2v7zm4 0h-2V7h2v10zm4 0h-2v-4h2v4z\"/>\n",
              "    </g>\n",
              "</svg>\n",
              "      </button>\n",
              "\n",
              "<style>\n",
              "  .colab-df-quickchart {\n",
              "      --bg-color: #E8F0FE;\n",
              "      --fill-color: #1967D2;\n",
              "      --hover-bg-color: #E2EBFA;\n",
              "      --hover-fill-color: #174EA6;\n",
              "      --disabled-fill-color: #AAA;\n",
              "      --disabled-bg-color: #DDD;\n",
              "  }\n",
              "\n",
              "  [theme=dark] .colab-df-quickchart {\n",
              "      --bg-color: #3B4455;\n",
              "      --fill-color: #D2E3FC;\n",
              "      --hover-bg-color: #434B5C;\n",
              "      --hover-fill-color: #FFFFFF;\n",
              "      --disabled-bg-color: #3B4455;\n",
              "      --disabled-fill-color: #666;\n",
              "  }\n",
              "\n",
              "  .colab-df-quickchart {\n",
              "    background-color: var(--bg-color);\n",
              "    border: none;\n",
              "    border-radius: 50%;\n",
              "    cursor: pointer;\n",
              "    display: none;\n",
              "    fill: var(--fill-color);\n",
              "    height: 32px;\n",
              "    padding: 0;\n",
              "    width: 32px;\n",
              "  }\n",
              "\n",
              "  .colab-df-quickchart:hover {\n",
              "    background-color: var(--hover-bg-color);\n",
              "    box-shadow: 0 1px 2px rgba(60, 64, 67, 0.3), 0 1px 3px 1px rgba(60, 64, 67, 0.15);\n",
              "    fill: var(--button-hover-fill-color);\n",
              "  }\n",
              "\n",
              "  .colab-df-quickchart-complete:disabled,\n",
              "  .colab-df-quickchart-complete:disabled:hover {\n",
              "    background-color: var(--disabled-bg-color);\n",
              "    fill: var(--disabled-fill-color);\n",
              "    box-shadow: none;\n",
              "  }\n",
              "\n",
              "  .colab-df-spinner {\n",
              "    border: 2px solid var(--fill-color);\n",
              "    border-color: transparent;\n",
              "    border-bottom-color: var(--fill-color);\n",
              "    animation:\n",
              "      spin 1s steps(1) infinite;\n",
              "  }\n",
              "\n",
              "  @keyframes spin {\n",
              "    0% {\n",
              "      border-color: transparent;\n",
              "      border-bottom-color: var(--fill-color);\n",
              "      border-left-color: var(--fill-color);\n",
              "    }\n",
              "    20% {\n",
              "      border-color: transparent;\n",
              "      border-left-color: var(--fill-color);\n",
              "      border-top-color: var(--fill-color);\n",
              "    }\n",
              "    30% {\n",
              "      border-color: transparent;\n",
              "      border-left-color: var(--fill-color);\n",
              "      border-top-color: var(--fill-color);\n",
              "      border-right-color: var(--fill-color);\n",
              "    }\n",
              "    40% {\n",
              "      border-color: transparent;\n",
              "      border-right-color: var(--fill-color);\n",
              "      border-top-color: var(--fill-color);\n",
              "    }\n",
              "    60% {\n",
              "      border-color: transparent;\n",
              "      border-right-color: var(--fill-color);\n",
              "    }\n",
              "    80% {\n",
              "      border-color: transparent;\n",
              "      border-right-color: var(--fill-color);\n",
              "      border-bottom-color: var(--fill-color);\n",
              "    }\n",
              "    90% {\n",
              "      border-color: transparent;\n",
              "      border-bottom-color: var(--fill-color);\n",
              "    }\n",
              "  }\n",
              "</style>\n",
              "\n",
              "      <script>\n",
              "        async function quickchart(key) {\n",
              "          const quickchartButtonEl =\n",
              "            document.querySelector('#' + key + ' button');\n",
              "          quickchartButtonEl.disabled = true;  // To prevent multiple clicks.\n",
              "          quickchartButtonEl.classList.add('colab-df-spinner');\n",
              "          try {\n",
              "            const charts = await google.colab.kernel.invokeFunction(\n",
              "                'suggestCharts', [key], {});\n",
              "          } catch (error) {\n",
              "            console.error('Error during call to suggestCharts:', error);\n",
              "          }\n",
              "          quickchartButtonEl.classList.remove('colab-df-spinner');\n",
              "          quickchartButtonEl.classList.add('colab-df-quickchart-complete');\n",
              "        }\n",
              "        (() => {\n",
              "          let quickchartButtonEl =\n",
              "            document.querySelector('#df-9d9604f4-6997-489c-8bcc-b33316352a68 button');\n",
              "          quickchartButtonEl.style.display =\n",
              "            google.colab.kernel.accessAllowed ? 'block' : 'none';\n",
              "        })();\n",
              "      </script>\n",
              "    </div>\n",
              "\n",
              "    </div>\n",
              "  </div>\n"
            ],
            "application/vnd.google.colaboratory.intrinsic+json": {
              "type": "dataframe",
              "summary": "{\n  \"name\": \"df\",\n  \"rows\": 4,\n  \"fields\": [\n    {\n      \"column\": \"Expirience\",\n      \"properties\": {\n        \"dtype\": \"number\",\n        \"std\": 0.012856702293878924,\n        \"min\": 0.9740661262820074,\n        \"max\": 1.0,\n        \"num_unique_values\": 3,\n        \"samples\": [\n          1.0,\n          0.9993142009358671,\n          0.9740661262820074\n        ],\n        \"semantic_type\": \"\",\n        \"description\": \"\"\n      }\n    },\n    {\n      \"column\": \"Age\",\n      \"properties\": {\n        \"dtype\": \"number\",\n        \"std\": 0.010625622574942893,\n        \"min\": 0.9783013939407006,\n        \"max\": 1.0,\n        \"num_unique_values\": 3,\n        \"samples\": [\n          0.9993142009358671,\n          1.0,\n          0.9783013939407006\n        ],\n        \"semantic_type\": \"\",\n        \"description\": \"\"\n      }\n    },\n    {\n      \"column\": \"Education_Level\",\n      \"properties\": {\n        \"dtype\": \"number\",\n        \"std\": 0.012422547045727575,\n        \"min\": 0.9740661262820074,\n        \"max\": 1.0,\n        \"num_unique_values\": 4,\n        \"samples\": [\n          0.9783013939407006,\n          0.9740661262820075,\n          0.9740661262820074\n        ],\n        \"semantic_type\": \"\",\n        \"description\": \"\"\n      }\n    },\n    {\n      \"column\": \"Salary\",\n      \"properties\": {\n        \"dtype\": \"number\",\n        \"std\": 0.012856702293878869,\n        \"min\": 0.9740661262820075,\n        \"max\": 1.0,\n        \"num_unique_values\": 3,\n        \"samples\": [\n          1.0,\n          0.9993142009358671,\n          0.9740661262820075\n        ],\n        \"semantic_type\": \"\",\n        \"description\": \"\"\n      }\n    }\n  ]\n}"
            }
          },
          "metadata": {},
          "execution_count": 17
        }
      ]
    },
    {
      "cell_type": "code",
      "source": [
        "x = df[['Expirience', 'Age', 'Education_Level']]\n",
        "y = df['Salary']\n",
        "x_train, x_test, y_train, y_test = train_test_split(x, y, test_size=0.2, random_state=42)"
      ],
      "metadata": {
        "id": "mhNIrB7TK33x"
      },
      "execution_count": 14,
      "outputs": []
    },
    {
      "cell_type": "code",
      "source": [],
      "metadata": {
        "id": "sMv4GydnRVXO"
      },
      "execution_count": null,
      "outputs": []
    },
    {
      "cell_type": "markdown",
      "source": [
        "# Part C – Model Training\n",
        "## Q4. Fit a simple Linear Regression model (no regularization)."
      ],
      "metadata": {
        "id": "jfYh82daOp2F"
      }
    },
    {
      "cell_type": "code",
      "source": [
        "regression = LinearRegression()\n",
        "regression.fit(x_train, y_train)\n",
        "r_square = regression.score(x_test, y_test)\n",
        "coef = regression.coef_\n",
        "intercept = regression.intercept_\n",
        "y_predict = regression.predict(x_test)\n",
        "MSE_linear = mean_squared_error(y_test, y_predict)\n",
        "\n",
        "print(\"Linear Regression:\")\n",
        "print(\"Mean Squared Error:\", MSE_linear)\n",
        "print(\"R-square:\", r_square)\n",
        "print(\"Coefficients:\", coef)\n",
        "print(\"Intercept:\", intercept)"
      ],
      "metadata": {
        "colab": {
          "base_uri": "https://localhost:8080/"
        },
        "id": "HrwOBkqdPhgK",
        "outputId": "bfd2d0d0-87ff-4f06-ade5-c1d783659b93"
      },
      "execution_count": 21,
      "outputs": [
        {
          "output_type": "stream",
          "name": "stdout",
          "text": [
            "Linear Regression:\n",
            "Mean Squared Error: 0.0\n",
            "R-square: 1.0\n",
            "Coefficients: [ 5.00000000e+03  3.78514475e-12 -9.83281677e-12]\n",
            "Intercept: 24999.999999999935\n"
          ]
        }
      ]
    },
    {
      "cell_type": "markdown",
      "source": [
        "##  Q5. Fit a Ridge Regression model (L2 Regularization)"
      ],
      "metadata": {
        "id": "jP7_8nHnSZkK"
      }
    },
    {
      "cell_type": "code",
      "metadata": {
        "colab": {
          "base_uri": "https://localhost:8080/"
        },
        "id": "ab64b5c7",
        "outputId": "f9b18c51-09c7-479c-df49-9ce18187a248"
      },
      "source": [
        "ridge_model = Ridge(alpha=1.0)\n",
        "ridge_model.fit(x_train, y_train)\n",
        "\n",
        "y_predict_ridge = ridge_model.predict(x_test)\n",
        "MSE_ridge = mean_squared_error(y_test, y_predict_ridge)\n",
        "r_square_ridge = ridge_model.score(x_test, y_test)\n",
        "\n",
        "print(\"Ridge Regression:\")\n",
        "print(\"Mean Squared Error:\", MSE_ridge)\n",
        "print(\"R-square:\", r_square_ridge)\n",
        "print(\"Coefficients:\", ridge_model.coef_)\n",
        "print(\"Intercept:\", ridge_model.intercept_)"
      ],
      "execution_count": 20,
      "outputs": [
        {
          "output_type": "stream",
          "name": "stdout",
          "text": [
            "Ridge Regression:\n",
            "Mean Squared Error: 344484.72147390054\n",
            "R-square: 0.9988751519298812\n",
            "Coefficients: [ 929.93832042 1581.52775581  -52.19041594]\n",
            "Intercept: -5623.9126996679115\n"
          ]
        }
      ]
    },
    {
      "cell_type": "markdown",
      "source": [
        "### Q6. Fit a Lasso Regression model (L1 Regularization)"
      ],
      "metadata": {
        "id": "uPy13VMnUIbm"
      }
    },
    {
      "cell_type": "code",
      "source": [
        "Lasso_model = Lasso(alpha=1.0)\n",
        "Lasso_model.fit(x_train, y_train)\n",
        "\n",
        "y_predict_lasso = Lasso_model.predict(x_test)\n",
        "MSE_lasso = mean_squared_error(y_test, y_predict_lasso)\n",
        "r_square_lasso = Lasso_model.score(x_test, y_test)\n",
        "\n",
        "print(\"Lasso Regression:\")\n",
        "print(\"Mean Squared Error:\", MSE_lasso)\n",
        "print(\"R-square:\", r_square_lasso)\n",
        "print(\"Coefficients:\", Lasso_model.coef_)\n",
        "print(\"Intercept:\", Lasso_model.intercept_)"
      ],
      "metadata": {
        "colab": {
          "base_uri": "https://localhost:8080/"
        },
        "id": "0W57mixRTU3H",
        "outputId": "1a2746f5-6f31-4998-e71b-82f8329dce05"
      },
      "execution_count": 22,
      "outputs": [
        {
          "output_type": "stream",
          "name": "stdout",
          "text": [
            "Lasso Regression:\n",
            "Mean Squared Error: 0.03651287418606321\n",
            "R-square: 0.9999999998807743\n",
            "Coefficients: [4.99977776e+03 6.53687855e-02 0.00000000e+00]\n",
            "Intercept: 24999.024268838733\n"
          ]
        }
      ]
    },
    {
      "cell_type": "markdown",
      "source": [
        " # Part D – Comparison\n",
        "## Q7. Compare the MSE (error) across all models."
      ],
      "metadata": {
        "id": "cR9a6S6yUthO"
      }
    },
    {
      "cell_type": "code",
      "metadata": {
        "colab": {
          "base_uri": "https://localhost:8080/"
        },
        "id": "8dd87ee6",
        "outputId": "4755a0fc-9a2a-4dd7-93ae-8d2c580ee3ba"
      },
      "source": [
        "print(\"Mean Squared Error Comparison:\")\n",
        "print(f\"Linear Regression MSE: {MSE_linear}\")\n",
        "print(f\"Ridge Regression MSE: {MSE_ridge}\")\n",
        "print(f\"Lasso Regression MSE: {MSE_lasso}\")"
      ],
      "execution_count": 23,
      "outputs": [
        {
          "output_type": "stream",
          "name": "stdout",
          "text": [
            "Mean Squared Error Comparison:\n",
            "Linear Regression MSE: 0.0\n",
            "Ridge Regression MSE: 344484.72147390054\n",
            "Lasso Regression MSE: 0.03651287418606321\n"
          ]
        }
      ]
    },
    {
      "cell_type": "code",
      "source": [],
      "metadata": {
        "id": "GmQ-B45BVFr2"
      },
      "execution_count": null,
      "outputs": []
    }
  ]
}